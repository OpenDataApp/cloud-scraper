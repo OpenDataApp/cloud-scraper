{
 "cells": [
  {
   "cell_type": "code",
   "execution_count": 1,
   "metadata": {},
   "outputs": [],
   "source": [
    "import requests\n",
    "from bs4 import BeautifulSoup"
   ]
  },
  {
   "cell_type": "markdown",
   "metadata": {},
   "source": [
    "# Azure"
   ]
  },
  {
   "cell_type": "markdown",
   "metadata": {},
   "source": [
    "## Set URL "
   ]
  },
  {
   "cell_type": "code",
   "execution_count": 2,
   "metadata": {},
   "outputs": [],
   "source": [
    "URL = 'https://docs.microsoft.com/en-us/azure/architecture/browse/'\n",
    "request = requests.get(URL)"
   ]
  },
  {
   "cell_type": "code",
   "execution_count": 3,
   "metadata": {},
   "outputs": [],
   "source": [
    "index = BeautifulSoup(request.text, 'lxml')"
   ]
  },
  {
   "cell_type": "markdown",
   "metadata": {},
   "source": [
    "## Get all articles"
   ]
  },
  {
   "cell_type": "code",
   "execution_count": 4,
   "metadata": {},
   "outputs": [
    {
     "name": "stdout",
     "output_type": "stream",
     "text": [
      "Total links founded: 324\n"
     ]
    }
   ],
   "source": [
    "all_articles = index.find_all('article')\n",
    "\n",
    "URL_BASE = 'https://docs.microsoft.com/'\n",
    "\n",
    "all_article_links = []\n",
    "\n",
    "for article in all_articles:\n",
    "    all_article_links.append(URL_BASE + article.a['href'])\n",
    "    \n",
    "print(f'Total links founded: {len(all_article_links)}')"
   ]
  },
  {
   "cell_type": "markdown",
   "metadata": {},
   "source": [
    "## Get image src from article"
   ]
  },
  {
   "cell_type": "code",
   "execution_count": 9,
   "metadata": {},
   "outputs": [
    {
     "name": "stdout",
     "output_type": "stream",
     "text": [
      "Error https://docs.microsoft.com//en-us/azure/architecture/example-scenario/mlops/mlops-maturity-model\n",
      "Error https://docs.microsoft.com//en-us/azure/architecture/reference-architectures/identity\n",
      "Error https://docs.microsoft.com//en-us/azure/architecture/reference-architectures/hybrid-networking/vnet-peering\n",
      "Error https://docs.microsoft.com//en-us/azure/architecture/reference-architectures/hybrid-networking\n"
     ]
    }
   ],
   "source": [
    "all_image_src = []\n",
    "errors = []\n",
    "for article_link in all_article_links:\n",
    "    try:\n",
    "        request = requests.get(article_link)\n",
    "        article = BeautifulSoup(request.text, 'lxml')\n",
    "        URL_PATH = 'https://docs.microsoft.com//en-us/azure/architecture/solution-ideas'\n",
    "        src = article.find('img', attrs={'data-linktype':\"relative-path\"})['src'][2:]\n",
    "        all_image_src.append(URL_PATH + src)\n",
    "    except:\n",
    "        print(f'Error {article_link}')\n",
    "        errors.append(article_link)"
   ]
  },
  {
   "cell_type": "code",
   "execution_count": 10,
   "metadata": {},
   "outputs": [
    {
     "name": "stdout",
     "output_type": "stream",
     "text": [
      "Total images founded 320\n"
     ]
    }
   ],
   "source": [
    "print(f'Total images founded {len(all_image_src)}')"
   ]
  },
  {
   "cell_type": "markdown",
   "metadata": {},
   "source": [
    "## Get images"
   ]
  },
  {
   "cell_type": "code",
   "execution_count": 17,
   "metadata": {},
   "outputs": [],
   "source": [
    "# image example\n",
    "image_folder = 'media'\n",
    "\n",
    "for image_src in all_image_src:\n",
    "    \n",
    "    image_name = image_src.split('/')[-1]\n",
    "    img_data = requests.get(image_src).content\n",
    "    \n",
    "    with open(f'{image_folder}/{image_name}', 'wb') as handler:\n",
    "        handler.write(img_data)"
   ]
  }
 ],
 "metadata": {
  "kernelspec": {
   "display_name": "Python 3",
   "language": "python",
   "name": "python3"
  },
  "language_info": {
   "codemirror_mode": {
    "name": "ipython",
    "version": 3
   },
   "file_extension": ".py",
   "mimetype": "text/x-python",
   "name": "python",
   "nbconvert_exporter": "python",
   "pygments_lexer": "ipython3",
   "version": "3.8.6"
  }
 },
 "nbformat": 4,
 "nbformat_minor": 4
}
