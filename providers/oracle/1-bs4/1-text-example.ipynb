{
 "cells": [
  {
   "cell_type": "code",
   "execution_count": 1,
   "metadata": {},
   "outputs": [],
   "source": [
    "import requests\n",
    "from bs4 import BeautifulSoup"
   ]
  },
  {
   "cell_type": "markdown",
   "metadata": {},
   "source": [
    "# Oracle Architecture Center"
   ]
  },
  {
   "cell_type": "markdown",
   "metadata": {},
   "source": [
    "## A - Url without filters"
   ]
  },
  {
   "cell_type": "code",
   "execution_count": 2,
   "metadata": {},
   "outputs": [
    {
     "name": "stdout",
     "output_type": "stream",
     "text": [
      "https://docs.oracle.com/en/solutions/index.html?page=0&is=true&sort=0\n"
     ]
    }
   ],
   "source": [
    "print(\"https://docs.oracle.com/en/solutions/index.html?page=0&is=true&sort=0\")"
   ]
  },
  {
   "cell_type": "markdown",
   "metadata": {},
   "source": [
    "## B - Url with filters"
   ]
  },
  {
   "cell_type": "markdown",
   "metadata": {},
   "source": [
    "### Topics"
   ]
  },
  {
   "cell_type": "code",
   "execution_count": 3,
   "metadata": {},
   "outputs": [
    {
     "name": "stdout",
     "output_type": "stream",
     "text": [
      "https://docs.oracle.com/en/solutions/index.html?type=Solution Playbooks&product=Analytics&technology=Agile&page=0&is=true&sort=0\n"
     ]
    }
   ],
   "source": [
    "# require change to -> https://en.wikipedia.org/wiki/Percent-encoding\n",
    "all_types = [\"Solution Playbooks\", \"Reference Architectures\"]\n",
    "all_products_services = [\"Analytics\",\"Ansible\",\"BI\",\"Big Data\",\"CI/CD\",\"Chatbots\",\"Cloud Native\",\"Compute\",\"Data Integration\",\"Database\",\"HPC\",\"IDM\",\"IaaS\",\"IoT\",\"JSP\",\"Java\",\"JavaScript\",\"Kubernetes\",\"LDAP\",\"Machine Learning\",\"Microservices\",\"Mobile\",\"Multicloud\",\"Networking\",\"NodeJS\",\"OAuth\",\"OpenID\",\"PL/SQL\",\"PaaS\",\"Python\",\"REST\",\"SAML\",\"SOA\",\"SOAP\",\"SSO\",\"SaaS\",\"Security\",\"Serverless\",\"Storage\",\"Terraform\"]\n",
    "all_technologies = [\"API Gateway\", \"API Platform Cloud Service\", \"Access Manager\", \"Agile\", \"Agile Product Lifecycle Management\", \"Airlines Data Model\", \"Analytics Cloud\", \"Application Express\", \"Autonomous Data Warehouse\", \"Autonomous Transaction Processing\", \"Block Volume\", \"CX Sales\", \"Cloud Infrastructure\", \"Compute\", \"Configure Price Quote\", \"Container Engine for Kubernetes\", \"Content and Experience\", \"Data Integrator\", \"Data Integrator Cloud\", \"Data Science\", \"Database\", \"Database Backup Service\", \"Database Classic Cloud Service\", \"Database Cloud - Database Schema Service\", \"Digital Assistant\", \"E-Business Suite\", \"Essbase\", \"Exadata Cloud Service\", \"File Storage\", \"Financial Consolidation and Close Cloud Service\", \"Fusion Human Capital Management\", \"Global Human Resources\", \"GoldenGate\", \"GoldenGate Cloud Service\", \"Identity Cloud Service\", \"Integration\", \"Integration Cloud Service\", \"Internet Directory\", \"Internet of Things Cloud Service\", \"IoT Asset Monitoring Cloud Service\", \"IoT Connected Worker Cloud Service\", \"IoT Fleet Cloud\", \"IoT Production Monitoring Cloud Service\", \"JD Edwards EnterpriseOne Applications\", \"JD Edwards EnterpriseOne Tools\", \"Java Cloud Service\", \"Java Cloud Service - SaaS Extension\", \"Key Vault\", \"Management Cloud Service\", \"Microsoft Azure\", \"Middleware\", \"Mobile Cloud Service\", \"Mobile Hub\", \"MySQL\", \"MySQL Database Cloud Service\", \"Object Storage\", \"Oracle Cloud VMware Solution\", \"Retail Merchandising System\", \"SOA Cloud Service\", \"Secure Global Desktop\", \"Service\", \"Siebel CRM\", \"Streaming\", \"Supply Chain Management\", \"Taleo Enterprise\", \"Transportation and Global Trade Management Cloud\", \"Tuxedo\", \"Visual Builder\", \"Warehouse Management Cloud\", \"WebLogic Server\", \"WebLogic Server for OKE\", \"WebLogic Server for Oracle Cloud\"]\n",
    "\n",
    "# single item example\n",
    "ty = all_types[0] \n",
    "ps = all_products_services[0] \n",
    "te = all_technologies[3]\n",
    "print(f\"https://docs.oracle.com/en/solutions/index.html?type={ty}&product={ps}&technology={te}&page=0&is=true&sort=0\")"
   ]
  },
  {
   "cell_type": "markdown",
   "metadata": {},
   "source": [
    "## Type - Reference Architectures"
   ]
  },
  {
   "cell_type": "code",
   "execution_count": 6,
   "metadata": {},
   "outputs": [],
   "source": [
    "URL = 'https://docs.oracle.com/en/solutions/index.html?type=reference-architectures&page=0&is=true&sort=0'"
   ]
  },
  {
   "cell_type": "code",
   "execution_count": 7,
   "metadata": {},
   "outputs": [],
   "source": [
    "index = requests.get('https://docs.oracle.com/en/solutions/index.html?type=reference-architectures&page=0&is=true&sort=0')\n",
    "soup_index = BeautifulSoup(index.text, \"lxml\")"
   ]
  },
  {
   "cell_type": "markdown",
   "metadata": {},
   "source": [
    "**Warning** This page need use javascrtip to load their al content"
   ]
  }
 ],
 "metadata": {
  "kernelspec": {
   "display_name": "Python 3",
   "language": "python",
   "name": "python3"
  },
  "language_info": {
   "codemirror_mode": {
    "name": "ipython",
    "version": 3
   },
   "file_extension": ".py",
   "mimetype": "text/x-python",
   "name": "python",
   "nbconvert_exporter": "python",
   "pygments_lexer": "ipython3",
   "version": "3.8.6"
  }
 },
 "nbformat": 4,
 "nbformat_minor": 4
}
