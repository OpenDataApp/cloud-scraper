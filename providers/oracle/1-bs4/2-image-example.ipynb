{
 "cells": [
  {
   "cell_type": "code",
   "execution_count": 1,
   "metadata": {},
   "outputs": [],
   "source": [
    "import requests\n",
    "from bs4 import BeautifulSoup"
   ]
  },
  {
   "cell_type": "markdown",
   "metadata": {},
   "source": [
    "# Post: Use Private DNS in Your VCN"
   ]
  },
  {
   "cell_type": "code",
   "execution_count": 2,
   "metadata": {},
   "outputs": [],
   "source": [
    "URL_BASE = 'https://docs.oracle.com/en/solutions/private-dns/'\n",
    "post = BeautifulSoup(requests.get(F\"{URL_BASE}index.html#GUID-A1669E7E-EF8B-4B0A-AA36-51D73D51ED46\").text, \"lxml\")"
   ]
  },
  {
   "cell_type": "code",
   "execution_count": 3,
   "metadata": {},
   "outputs": [],
   "source": [
    "# image example\n",
    "image_folder = 'multimedia'\n",
    "image_url = URL_BASE + post.img.attrs[\"src\"]\n",
    "image_name = post.img.attrs[\"src\"].split('/')[-1]\n",
    "\n",
    "img_data = requests.get(image_url).content\n",
    "with open(f'{image_folder}/{image_name}', 'wb') as handler:\n",
    "    handler.write(img_data)"
   ]
  }
 ],
 "metadata": {
  "kernelspec": {
   "display_name": "Python 3",
   "language": "python",
   "name": "python3"
  },
  "language_info": {
   "codemirror_mode": {
    "name": "ipython",
    "version": 3
   },
   "file_extension": ".py",
   "mimetype": "text/x-python",
   "name": "python",
   "nbconvert_exporter": "python",
   "pygments_lexer": "ipython3",
   "version": "3.8.6"
  }
 },
 "nbformat": 4,
 "nbformat_minor": 4
}
