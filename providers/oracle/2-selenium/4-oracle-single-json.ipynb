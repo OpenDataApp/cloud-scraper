{
 "cells": [
  {
   "cell_type": "code",
   "execution_count": null,
   "metadata": {},
   "outputs": [],
   "source": [
    "import time\n",
    "from selenium import webdriver"
   ]
  },
  {
   "cell_type": "markdown",
   "metadata": {},
   "source": [
    "# Oracle provider json\n",
    "For every architecture from [Oracle Architecture Center](https://docs.oracle.com/en/solutions/) filter by `Reference Architectures`, we extract a json file with contains:\n",
    "\n",
    "```python\n",
    "{'title':'architecture_title',\n",
    " 'components': {'Region':True or False,\n",
    "                'Availability domains':True or False,\n",
    "                'Virtual cloud network (VCN) and subnets':True or False,\n",
    "                'Load balancer':True or False,\n",
    "                'Functions':True or False,\n",
    "                'Notifications':True or False, \n",
    "                'Monitoring':True or False,\n",
    "                'Object storage':True or False},\n",
    " 'img_url':'https://image-url.png'}\n",
    "```\n"
   ]
  },
  {
   "cell_type": "markdown",
   "metadata": {},
   "source": [
    "## Set Options"
   ]
  },
  {
   "cell_type": "code",
   "execution_count": 2,
   "metadata": {},
   "outputs": [],
   "source": [
    "options = webdriver.FirefoxOptions()\n",
    "options.add_argument('--headless')\n",
    "webpage =  webdriver.Firefox(options=options, executable_path='./drivers/geckodriver')"
   ]
  },
  {
   "cell_type": "markdown",
   "metadata": {},
   "source": [
    "## Single URL - example"
   ]
  },
  {
   "cell_type": "code",
   "execution_count": 4,
   "metadata": {},
   "outputs": [],
   "source": [
    "# url\n",
    "single_url_arch = 'https://docs.oracle.com/en/solutions/oci-security-zones/index.html#GUID-6C94D662-64BE-423E-B900-E888702C4AE7'\n",
    "\n",
    "# get web page\n",
    "webpage.get(single_url_arch)\n",
    "\n",
    "# execute script to scroll down the page\n",
    "for i in range(10):\n",
    "    webpage.execute_script(\"window.scrollTo(0, document.body.scrollHeight);var lenOfPage=document.body.scrollHeight;return lenOfPage;\")\n",
    "    # sleep for 10s\n",
    "    time.sleep(1)"
   ]
  },
  {
   "cell_type": "markdown",
   "metadata": {},
   "source": [
    "### Get title"
   ]
  },
  {
   "cell_type": "code",
   "execution_count": null,
   "metadata": {},
   "outputs": [],
   "source": [
    "title = webpage.find_elements_by_tag_name(\"h1\")[0].text\n",
    "print(f'Title: {title}')"
   ]
  },
  {
   "cell_type": "markdown",
   "metadata": {},
   "source": [
    "#### Get SINGLE Componets"
   ]
  },
  {
   "cell_type": "markdown",
   "metadata": {},
   "source": [
    "##### Sections"
   ]
  },
  {
   "cell_type": "code",
   "execution_count": null,
   "metadata": {},
   "outputs": [],
   "source": [
    "sections = webpage.find_elements_by_tag_name(\"div.sect2\")\n",
    "print(f'All sections: {len(sections)}')"
   ]
  },
  {
   "cell_type": "markdown",
   "metadata": {},
   "source": [
    "##### Architecure Content\n",
    "\n",
    "**Note**: In some cases, the architecture main content, coud be contains more than one image and componet list, so, in this example we are taking only the first one."
   ]
  },
  {
   "cell_type": "code",
   "execution_count": null,
   "metadata": {},
   "outputs": [],
   "source": [
    "# in most cases [0] first section from all div.sect2 refers to architecture content.\n",
    "architecture_content = sections[0]"
   ]
  },
  {
   "cell_type": "markdown",
   "metadata": {},
   "source": [
    "##### Image"
   ]
  },
  {
   "cell_type": "code",
   "execution_count": null,
   "metadata": {},
   "outputs": [],
   "source": [
    "# get first image\n",
    "image_link = architecture_content.find_elements_by_tag_name('img')[0].get_attribute('src')\n",
    "print(f'link: {image_link}')"
   ]
  },
  {
   "cell_type": "markdown",
   "metadata": {},
   "source": [
    "##### Unordered list"
   ]
  },
  {
   "cell_type": "code",
   "execution_count": null,
   "metadata": {},
   "outputs": [],
   "source": [
    "# get first content unordered list\n",
    "ul = architecture_content.find_elements_by_tag_name('ul')[0]\n",
    "\n",
    "# get all li elements\n",
    "all_li = ul.find_elements_by_tag_name('li')\n",
    "\n",
    "# create conten list\n",
    "content_list = [li.text.split(':')[0] for li in all_li]\n",
    "\n",
    "# create conten dic OPTIONAL\n",
    "# content_dict = { li.text.split(':')[0] : li.text.split(':')[1] for li in all_li}"
   ]
  },
  {
   "cell_type": "code",
   "execution_count": null,
   "metadata": {},
   "outputs": [],
   "source": [
    "content_list"
   ]
  },
  {
   "cell_type": "markdown",
   "metadata": {},
   "source": [
    "##### Combine all"
   ]
  },
  {
   "cell_type": "code",
   "execution_count": null,
   "metadata": {},
   "outputs": [],
   "source": [
    "architecture_json = {'title':title,\n",
    " 'content': content_list,\n",
    "'img_link':image_link,}"
   ]
  },
  {
   "cell_type": "code",
   "execution_count": null,
   "metadata": {},
   "outputs": [],
   "source": [
    "architecture_json"
   ]
  },
  {
   "cell_type": "markdown",
   "metadata": {},
   "source": [
    "#### Get all Componets"
   ]
  },
  {
   "cell_type": "markdown",
   "metadata": {},
   "source": [
    "##### Sections"
   ]
  },
  {
   "cell_type": "code",
   "execution_count": 5,
   "metadata": {},
   "outputs": [
    {
     "name": "stdout",
     "output_type": "stream",
     "text": [
      "All sections: 5\n"
     ]
    }
   ],
   "source": [
    "sections = webpage.find_elements_by_tag_name(\"div.sect2\")\n",
    "print(f'All sections: {len(sections)}')"
   ]
  },
  {
   "cell_type": "markdown",
   "metadata": {},
   "source": [
    "##### Architecure Content\n",
    "\n",
    "**Note**: In some cases, the architecture main content, coud be contains more than one image and componet list, so, in this example we are taking only the first one."
   ]
  },
  {
   "cell_type": "code",
   "execution_count": 6,
   "metadata": {},
   "outputs": [],
   "source": [
    "# in most cases [0] first section from all div.sect2 refers to architecture content.\n",
    "architecture_content = sections[0]"
   ]
  },
  {
   "cell_type": "code",
   "execution_count": 31,
   "metadata": {},
   "outputs": [],
   "source": [
    "# the approach is, for every image founded exist a list of components respectivly in same order\n",
    "all_images = architecture_content.find_elements_by_tag_name('img')\n",
    "all_ul_list = architecture_content.find_elements_by_tag_name('ul')\n",
    "iterations = range(len(all_images))"
   ]
  },
  {
   "cell_type": "code",
   "execution_count": 46,
   "metadata": {},
   "outputs": [
    {
     "name": "stdout",
     "output_type": "stream",
     "text": [
      "0\n",
      "link: https://docs.oracle.com/en/solutions/oci-security-zones/img/msz-01.png\n",
      "Object storage\n",
      "Database\n",
      "Compartment\n",
      "Virtual machines\n",
      "Internet\n",
      "Network\n",
      "1\n",
      "link: https://docs.oracle.com/en/solutions/oci-security-zones/img/msz-02.png\n",
      "Region\n",
      "An Oracle Cloud Infrastructure region is a localized geographic area that contains one or more data centers, called availability domains. Regions are independent of other regions, and vast distances can separate them (across countries or even continents).\n",
      "Availability domain\n",
      "Availability domains are standalone, independent data centers within a region. The physical resources in each availability domain are isolated from the resources in the other availability domains, which provides fault tolerance. Availability domains don’t share infrastructure such as power or cooling, or the internal availability domain network. So, a failure at one availability domain is unlikely to affect the other availability domains in the region.\n",
      "Fault domain\n",
      "A fault domain is a grouping of hardware and infrastructure within an availability domain. Each availability domain has three fault domains with independent power and hardware. When you distribute resources across multiple fault domains, your applications can tolerate physical server failure, system maintenance, and power failures inside a fault domain.\n",
      "Compartment\n",
      "A compartment is a collection of related resources. Compartments are a fundamental component of Oracle Cloud Infrastructure for organizing and isolating cloud resources. Compartments are tenancy-wide and cross all regions.\n",
      "Security zone\n",
      "Security zones ensure Oracle's security best practices from the start by enforcing policies such as encrypting data and preventing public access to networks for an entire compartment. A security zone is associated with a compartment of the same name and includes security zone policies or a \"recipe\" that applies to the compartment and its sub-compartments. You can't add or move a standard compartment to a security zone compartment.\n",
      "In this use-case, the security zone enforces the following policies\n",
      "Encrypt boot volumes of the compute instances and object storage buckets\n",
      "Prevent compute resources from being accessed from the public internet\n",
      "Encrypt resources using customer-managed keys\n",
      "Regularly and automatically back up all resources\n",
      "Virtual cloud network (VCN) and subnets\n",
      "A VCN is a customizable, private network that you set up in an Oracle Cloud Infrastructure region. Like traditional data center networks, VCNs give you complete control over your network environment. You can segment VCNs into subnets, which can be scoped to a region or to an availability domain. Both regional subnets and availability domain-specific subnets can coexist in the same VCN. A subnet can be public or private.\n",
      "Security lists\n",
      "For each subnet, you can create security rules that specify the source, destination, and type of traffic that must be allowed in and out of the subnet.\n",
      "Load balancers\n",
      "The Oracle Cloud Infrastructure Load Balancing service provides automated traffic distribution from a single entry point to multiple servers in the back end.\n",
      "This architecture uses separate load balancers for the administrator's applications and the self-service applications, for tighter security and traffic separation. You can upgrade the load balancer shape if needed.\n",
      "Service gateway\n",
      "The service gateway provides access from a VCN to other services, such as Oracle Cloud Infrastructure Object Storage. The traffic from the VCN to the Oracle service travels over the Oracle network fabric and never traverses the internet.\n",
      "Local peering gateway (LPG)\n",
      "An LPG enables you to peer one VCN with another VCN in the same region. Peering means the VCNs communicate using private IP addresses, without the traffic traversing the internet or routing through your on-premises network.\n",
      "Object storage\n",
      "Object storage provides quick access to large amounts of structured and unstructured data of any content type, including database backups, analytic data, and rich content such as images and videos. Use standard storage for \"hot\" storage that you need to access quickly, immediately, and frequently. Use archive storage for \"cold\" storage that you retain for long periods of time and seldom or rarely access.\n",
      "Compute\n",
      "Oracle Cloud Infrastructure Compute lets you provision and manage compute hosts. You can launch compute instances with shapes that meet your resource requirements (CPU, memory, network bandwidth, and storage). After creating a compute instance, you can access it securely, restart it, attach and detach volumes, and terminate it when you don't need it.\n",
      "Web Application Firewall\n",
      "Oracle Cloud Infrastructure Web Application Firewall (WAF) is a cloud-based, payment card industry (PCI) compliant, global security service that protects applications from malicious and unwanted internet traffic. WAF can protect any internet-facing endpoint, providing consistent rule enforcement across a customer's applications.\n"
     ]
    }
   ],
   "source": [
    "for i in iterations:\n",
    "    print(i)\n",
    "    image_link = architecture_content.find_elements_by_tag_name('img')[i].get_attribute('src')\n",
    "    print(f'link: {image_link}')\n",
    "    # get first content unordered list\n",
    "    \n",
    "    for li in all_ul_list[i].find_elements_by_tag_name('li'):\n",
    "        print(li.text.split(':')[0])"
   ]
  },
  {
   "cell_type": "markdown",
   "metadata": {},
   "source": [
    "## Close connection"
   ]
  },
  {
   "cell_type": "code",
   "execution_count": 47,
   "metadata": {},
   "outputs": [
    {
     "data": {
      "text/plain": [
       "<bound method WebDriver.close of <selenium.webdriver.firefox.webdriver.WebDriver (session=\"75be016a-a158-484f-bebc-765c451d2e10\")>>"
      ]
     },
     "execution_count": 47,
     "metadata": {},
     "output_type": "execute_result"
    }
   ],
   "source": [
    "webpage.close"
   ]
  },
  {
   "cell_type": "code",
   "execution_count": null,
   "metadata": {},
   "outputs": [],
   "source": []
  }
 ],
 "metadata": {
  "kernelspec": {
   "display_name": "Python 3",
   "language": "python",
   "name": "python3"
  },
  "language_info": {
   "codemirror_mode": {
    "name": "ipython",
    "version": 3
   },
   "file_extension": ".py",
   "mimetype": "text/x-python",
   "name": "python",
   "nbconvert_exporter": "python",
   "pygments_lexer": "ipython3",
   "version": "3.8.6"
  }
 },
 "nbformat": 4,
 "nbformat_minor": 4
}
