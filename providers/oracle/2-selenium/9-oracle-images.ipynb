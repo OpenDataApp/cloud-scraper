{
 "cells": [
  {
   "cell_type": "code",
   "execution_count": 1,
   "metadata": {},
   "outputs": [],
   "source": [
    "import time\n",
    "import requests\n",
    "from selenium import webdriver\n",
    "from selenium.webdriver.firefox.options import Options"
   ]
  },
  {
   "cell_type": "markdown",
   "metadata": {},
   "source": [
    "## Set Options"
   ]
  },
  {
   "cell_type": "code",
   "execution_count": 2,
   "metadata": {},
   "outputs": [
    {
     "name": "stderr",
     "output_type": "stream",
     "text": [
      "<ipython-input-2-9ff0a28c3367>:3: DeprecationWarning: use options instead of firefox_options\n",
      "  webpage = webdriver.Firefox(firefox_options=options, executable_path = './drivers/geckodriver')\n"
     ]
    }
   ],
   "source": [
    "options = Options()\n",
    "options.headless = True\n",
    "webpage = webdriver.Firefox(firefox_options=options, executable_path = './drivers/geckodriver')"
   ]
  },
  {
   "cell_type": "markdown",
   "metadata": {},
   "source": [
    "## Set Url"
   ]
  },
  {
   "cell_type": "code",
   "execution_count": 3,
   "metadata": {},
   "outputs": [],
   "source": [
    "# index url\n",
    "urlpage = 'https://docs.oracle.com/en/solutions/index.html?type=reference-architectures&page=0&is=true&sort=0' \n",
    "# get web page\n",
    "webpage.get(urlpage)"
   ]
  },
  {
   "cell_type": "markdown",
   "metadata": {},
   "source": [
    "## Search for webpages links"
   ]
  },
  {
   "cell_type": "code",
   "execution_count": 4,
   "metadata": {},
   "outputs": [],
   "source": [
    "# execute script to scroll down the page\n",
    "for i in range(10):\n",
    "    webpage.execute_script(\"window.scrollTo(0, document.body.scrollHeight);var lenOfPage=document.body.scrollHeight;return lenOfPage;\")\n",
    "    # sleep for 10s\n",
    "    time.sleep(3)"
   ]
  },
  {
   "cell_type": "code",
   "execution_count": 5,
   "metadata": {},
   "outputs": [
    {
     "name": "stdout",
     "output_type": "stream",
     "text": [
      "Total links founded: 78\n"
     ]
    }
   ],
   "source": [
    "all_solution_links = webpage.find_elements_by_class_name(\"solutionurl\")\n",
    "print(f\"Total links founded: {len(all_solution_links)}\")"
   ]
  },
  {
   "cell_type": "markdown",
   "metadata": {},
   "source": [
    "## Get image links form every web page"
   ]
  },
  {
   "cell_type": "code",
   "execution_count": 6,
   "metadata": {},
   "outputs": [],
   "source": [
    "url_architecture = []\n",
    "for href in all_solution_links:\n",
    "    url_architecture.append(href.get_attribute('href'))"
   ]
  },
  {
   "cell_type": "markdown",
   "metadata": {},
   "source": [
    "## Get images"
   ]
  },
  {
   "cell_type": "code",
   "execution_count": 8,
   "metadata": {},
   "outputs": [],
   "source": [
    "for url in url_architecture:\n",
    "    \n",
    "    # get current link\n",
    "    webpage.get(url)\n",
    "    \n",
    "    # execute script to scroll down the page\n",
    "    for i in range(10):\n",
    "        webpage.execute_script(\"window.scrollTo(0, document.body.scrollHeight);var lenOfPage=document.body.scrollHeight;return lenOfPage;\")\n",
    "        # wait\n",
    "        time.sleep(3)\n",
    "        \n",
    "    # get image source\n",
    "    for src in webpage.find_elements_by_tag_name(\"img\"):\n",
    "        \n",
    "        image_url = src.get_attribute('src')\n",
    "\n",
    "        # save image\n",
    "        image_folder = 'content'\n",
    "        image_name = image_url.split('/')[-1]\n",
    "        img_data = requests.get(image_url).content\n",
    "\n",
    "        with open(f'{image_folder}/{image_name}', 'wb') as handler:\n",
    "            handler.write(img_data)"
   ]
  }
 ],
 "metadata": {
  "kernelspec": {
   "display_name": "Python 3",
   "language": "python",
   "name": "python3"
  },
  "language_info": {
   "codemirror_mode": {
    "name": "ipython",
    "version": 3
   },
   "file_extension": ".py",
   "mimetype": "text/x-python",
   "name": "python",
   "nbconvert_exporter": "python",
   "pygments_lexer": "ipython3",
   "version": "3.8.6"
  }
 },
 "nbformat": 4,
 "nbformat_minor": 4
}
