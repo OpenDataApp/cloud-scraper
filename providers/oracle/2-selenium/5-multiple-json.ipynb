{
 "cells": [
  {
   "cell_type": "code",
   "execution_count": 1,
   "metadata": {},
   "outputs": [],
   "source": [
    "import time\n",
    "import re\n",
    "from selenium import webdriver"
   ]
  },
  {
   "cell_type": "markdown",
   "metadata": {},
   "source": [
    "## Set Options"
   ]
  },
  {
   "cell_type": "code",
   "execution_count": 2,
   "metadata": {},
   "outputs": [],
   "source": [
    "options = webdriver.FirefoxOptions()\n",
    "options.add_argument('--headless')\n",
    "webpage =  webdriver.Firefox(options=options, executable_path='./drivers/geckodriver')"
   ]
  },
  {
   "cell_type": "markdown",
   "metadata": {},
   "source": [
    "## Set Url"
   ]
  },
  {
   "cell_type": "code",
   "execution_count": 3,
   "metadata": {},
   "outputs": [],
   "source": [
    "# index url\n",
    "urlpage = 'https://docs.oracle.com/en/solutions/index.html?type=reference-architectures&page=0&is=true&sort=0' \n",
    "# get web page\n",
    "webpage.get(urlpage)"
   ]
  },
  {
   "cell_type": "markdown",
   "metadata": {},
   "source": [
    "## Search for webpages links"
   ]
  },
  {
   "cell_type": "code",
   "execution_count": 4,
   "metadata": {},
   "outputs": [],
   "source": [
    "# execute script to scroll down the page\n",
    "for i in range(10):\n",
    "    webpage.execute_script(\"window.scrollTo(0, document.body.scrollHeight);var lenOfPage=document.body.scrollHeight;return lenOfPage;\")\n",
    "    # sleep for 10s\n",
    "    time.sleep(3)"
   ]
  },
  {
   "cell_type": "code",
   "execution_count": 5,
   "metadata": {},
   "outputs": [
    {
     "name": "stdout",
     "output_type": "stream",
     "text": [
      "Total links founded: 79\n"
     ]
    }
   ],
   "source": [
    "all_solution_links = webpage.find_elements_by_class_name(\"solutionurl\")\n",
    "print(f\"Total links founded: {len(all_solution_links)}\")"
   ]
  },
  {
   "cell_type": "code",
   "execution_count": 6,
   "metadata": {},
   "outputs": [],
   "source": [
    "url_architecture = []\n",
    "for href in all_solution_links:\n",
    "    url_architecture.append(href.get_attribute('href'))"
   ]
  },
  {
   "cell_type": "markdown",
   "metadata": {},
   "source": [
    "## Single URL Loop - Simple\n",
    "note: You can change ':' or '\\n' delimiter"
   ]
  },
  {
   "cell_type": "raw",
   "metadata": {},
   "source": [
    "json_out = {}\n",
    "\n",
    "for link in url_architecture:\n",
    "    # url\n",
    "    single_url_arch = link\n",
    "    # get web page\n",
    "    webpage.get(single_url_arch)\n",
    "\n",
    "    # execute script to scroll down the page\n",
    "    for i in range(10):\n",
    "        \n",
    "        webpage.execute_script(\"window.scrollTo(0, document.body.scrollHeight);var lenOfPage=document.body.scrollHeight;return lenOfPage;\")\n",
    "        \n",
    "        # sleep for 10s\n",
    "        time.sleep(1)\n",
    "        \n",
    "    #title\n",
    "    title = webpage.find_elements_by_tag_name(\"h1\")[0].text\n",
    "        \n",
    "    #sections\n",
    "    sections = webpage.find_elements_by_tag_name(\"div.sect2\")\n",
    "    \n",
    "    # in most cases [0] first section from all div.sect2 refers to architecture content.\n",
    "    architecture_content = sections[0]\n",
    "    \n",
    "    # get first image\n",
    "    image_link = architecture_content.find_elements_by_tag_name('img')[0].get_attribute('src')\n",
    "        \n",
    "    # get first content unordered list\n",
    "    ul = architecture_content.find_elements_by_tag_name('ul')[0]\n",
    "    # get all li elements\n",
    "    all_li = ul.find_elements_by_tag_name('li')\n",
    "    \n",
    "    # create conten list\n",
    "    # note: You can change ':' or '\\n' delimiter\n",
    "    content_list = [li.text.split('\\n')[0] for li in all_li]\n",
    "        \n",
    "    # combine_all\n",
    "    architecture_json = {'title':title, 'content': content_list, 'img_link':image_link,}\n",
    "    \n",
    "    #output\n",
    "    json_out[str(link)] = architecture_json\n",
    "print(len(json_out))"
   ]
  },
  {
   "cell_type": "markdown",
   "metadata": {},
   "source": [
    "## Single URL Loop - regex version"
   ]
  },
  {
   "cell_type": "code",
   "execution_count": 7,
   "metadata": {},
   "outputs": [
    {
     "name": "stdout",
     "output_type": "stream",
     "text": [
      "https://docs.oracle.com/en/solutions/cobol-mainframe-to-oci/index.html\n",
      "https://docs.oracle.com/en/solutions/mainframe-to-oke/index.html\n",
      "https://docs.oracle.com/en/solutions/wls-on-oke-marketplace/index.html\n",
      "https://docs.oracle.com/en/solutions/peoplesoft-fortinet-oci/index.html\n",
      "https://docs.oracle.com/en/solutions/deploy-websphere-on-oci/index.html\n",
      "https://docs.oracle.com/en/solutions/hybrid-dns/index.html\n",
      "https://docs.oracle.com/en/solutions/ocvs-oci/index.html\n",
      "https://docs.oracle.com/en/solutions/ofsaa-oci/index.html\n",
      "https://docs.oracle.com/en/solutions/db-sharding-single-region/index.html\n",
      "https://docs.oracle.com/en/solutions/xregion-pvt-connectivity-oci/index.html\n",
      "https://docs.oracle.com/en/solutions/flexcube-oci/index.html\n",
      "https://docs.oracle.com/en/solutions/oci-ellucian/index.html\n"
     ]
    }
   ],
   "source": [
    "json_out = {}\n",
    "\n",
    "for link in url_architecture:\n",
    "    \n",
    "    try:\n",
    "        # url\n",
    "        single_url_arch = link\n",
    "        # get web page\n",
    "        webpage.get(single_url_arch)\n",
    "    \n",
    "        # execute script to scroll down the page\n",
    "        for i in range(10):\n",
    "            \n",
    "            webpage.execute_script(\"window.scrollTo(0, document.body.scrollHeight);var lenOfPage=document.body.scrollHeight;return lenOfPage;\")\n",
    "            \n",
    "            # sleep for 10s\n",
    "            time.sleep(1)\n",
    "            \n",
    "        #title\n",
    "        title = webpage.find_elements_by_tag_name(\"h1\")[0].text\n",
    "            \n",
    "        #sections\n",
    "        sections = webpage.find_elements_by_tag_name(\"div.sect2\")\n",
    "        \n",
    "        # in most cases [0] first section from all div.sect2 refers to architecture content.\n",
    "        architecture_content = sections[0]\n",
    "        \n",
    "        # get first image\n",
    "        image_link = architecture_content.find_elements_by_tag_name('img')[0].get_attribute('src')\n",
    "            \n",
    "        # get first content unordered list\n",
    "        ul = architecture_content.find_elements_by_tag_name('ul')[0]\n",
    "        # get all li elements\n",
    "        all_li = ul.find_elements_by_tag_name('li')\n",
    "        \n",
    "        # create conten list\n",
    "        content_list = [re.search(\"(.)+(:|\\n)\", li.text)[0] for li in all_li]\n",
    "            \n",
    "        # combine_all\n",
    "        architecture_json = {'title':title, 'content': content_list, 'img_link':image_link,}\n",
    "        \n",
    "        #output\n",
    "        json_out[str(link)] = architecture_json\n",
    "    \n",
    "    except:\n",
    "        print(link)"
   ]
  },
  {
   "cell_type": "code",
   "execution_count": 8,
   "metadata": {},
   "outputs": [
    {
     "data": {
      "text/plain": [
       "<bound method WebDriver.close of <selenium.webdriver.firefox.webdriver.WebDriver (session=\"958e7c18-23ed-43f3-b65f-0452115bd246\")>>"
      ]
     },
     "execution_count": 8,
     "metadata": {},
     "output_type": "execute_result"
    }
   ],
   "source": [
    "webpage.close"
   ]
  },
  {
   "cell_type": "markdown",
   "metadata": {},
   "source": [
    "## Save json"
   ]
  },
  {
   "cell_type": "code",
   "execution_count": 9,
   "metadata": {},
   "outputs": [],
   "source": [
    "import json"
   ]
  },
  {
   "cell_type": "code",
   "execution_count": 12,
   "metadata": {},
   "outputs": [],
   "source": [
    "a_file = open(\"architecture_links.json\", \"w\")\n",
    "\n",
    "json.dump(json_out, a_file)\n",
    "\n",
    "a_file.close()"
   ]
  },
  {
   "cell_type": "markdown",
   "metadata": {},
   "source": [
    "## Save csv"
   ]
  },
  {
   "cell_type": "code",
   "execution_count": 75,
   "metadata": {},
   "outputs": [],
   "source": [
    "import pandas as pd"
   ]
  },
  {
   "cell_type": "code",
   "execution_count": 141,
   "metadata": {},
   "outputs": [],
   "source": [
    "df = pd.read_json('architecture_links.json')"
   ]
  },
  {
   "cell_type": "code",
   "execution_count": 142,
   "metadata": {},
   "outputs": [],
   "source": [
    "df = df.T"
   ]
  },
  {
   "cell_type": "code",
   "execution_count": 143,
   "metadata": {},
   "outputs": [],
   "source": [
    "df = df.reset_index()"
   ]
  },
  {
   "cell_type": "code",
   "execution_count": 144,
   "metadata": {},
   "outputs": [],
   "source": [
    "ext_list = []\n",
    "for cont in df.content:\n",
    "    int_list = []\n",
    "    for item in cont:\n",
    "        int_list.append(item[:-1])\n",
    "    ext_list.append(int_list)"
   ]
  },
  {
   "cell_type": "code",
   "execution_count": 145,
   "metadata": {},
   "outputs": [],
   "source": [
    "df.content = ext_list"
   ]
  },
  {
   "cell_type": "code",
   "execution_count": 146,
   "metadata": {},
   "outputs": [
    {
     "data": {
      "text/html": [
       "<div>\n",
       "<style scoped>\n",
       "    .dataframe tbody tr th:only-of-type {\n",
       "        vertical-align: middle;\n",
       "    }\n",
       "\n",
       "    .dataframe tbody tr th {\n",
       "        vertical-align: top;\n",
       "    }\n",
       "\n",
       "    .dataframe thead th {\n",
       "        text-align: right;\n",
       "    }\n",
       "</style>\n",
       "<table border=\"1\" class=\"dataframe\">\n",
       "  <thead>\n",
       "    <tr style=\"text-align: right;\">\n",
       "      <th></th>\n",
       "      <th>index</th>\n",
       "      <th>title</th>\n",
       "      <th>content</th>\n",
       "      <th>img_link</th>\n",
       "    </tr>\n",
       "  </thead>\n",
       "  <tbody>\n",
       "    <tr>\n",
       "      <th>0</th>\n",
       "      <td>https://docs.oracle.com/en/solutions/implement...</td>\n",
       "      <td>Implement a custom error page for a load balan...</td>\n",
       "      <td>[Region, Availability domains, Virtual cloud n...</td>\n",
       "      <td>https://docs.oracle.com/en/solutions/implement...</td>\n",
       "    </tr>\n",
       "    <tr>\n",
       "      <th>1</th>\n",
       "      <td>https://docs.oracle.com/en/solutions/migrate-t...</td>\n",
       "      <td>Migrate an on-premises Oracle Database deploym...</td>\n",
       "      <td>[On-premises deployment, Region, Availability ...</td>\n",
       "      <td>https://docs.oracle.com/en/solutions/migrate-t...</td>\n",
       "    </tr>\n",
       "    <tr>\n",
       "      <th>2</th>\n",
       "      <td>https://docs.oracle.com/en/solutions/migrate-t...</td>\n",
       "      <td>Migrate an on-premises Oracle Database deploym...</td>\n",
       "      <td>[On-premises deployment, Region, Availability ...</td>\n",
       "      <td>https://docs.oracle.com/en/solutions/migrate-t...</td>\n",
       "    </tr>\n",
       "    <tr>\n",
       "      <th>3</th>\n",
       "      <td>https://docs.oracle.com/en/solutions/migrate-e...</td>\n",
       "      <td>Migrate an on-premises Oracle Database deploym...</td>\n",
       "      <td>[On-premises deployment, Region, Availability ...</td>\n",
       "      <td>https://docs.oracle.com/en/solutions/migrate-e...</td>\n",
       "    </tr>\n",
       "    <tr>\n",
       "      <th>4</th>\n",
       "      <td>https://docs.oracle.com/en/solutions/private-d...</td>\n",
       "      <td>Use private DNS in your VCN</td>\n",
       "      <td>[Region, Availability domains, Virtual cloud n...</td>\n",
       "      <td>https://docs.oracle.com/en/solutions/private-d...</td>\n",
       "    </tr>\n",
       "  </tbody>\n",
       "</table>\n",
       "</div>"
      ],
      "text/plain": [
       "                                               index  \\\n",
       "0  https://docs.oracle.com/en/solutions/implement...   \n",
       "1  https://docs.oracle.com/en/solutions/migrate-t...   \n",
       "2  https://docs.oracle.com/en/solutions/migrate-t...   \n",
       "3  https://docs.oracle.com/en/solutions/migrate-e...   \n",
       "4  https://docs.oracle.com/en/solutions/private-d...   \n",
       "\n",
       "                                               title  \\\n",
       "0  Implement a custom error page for a load balan...   \n",
       "1  Migrate an on-premises Oracle Database deploym...   \n",
       "2  Migrate an on-premises Oracle Database deploym...   \n",
       "3  Migrate an on-premises Oracle Database deploym...   \n",
       "4                        Use private DNS in your VCN   \n",
       "\n",
       "                                             content  \\\n",
       "0  [Region, Availability domains, Virtual cloud n...   \n",
       "1  [On-premises deployment, Region, Availability ...   \n",
       "2  [On-premises deployment, Region, Availability ...   \n",
       "3  [On-premises deployment, Region, Availability ...   \n",
       "4  [Region, Availability domains, Virtual cloud n...   \n",
       "\n",
       "                                            img_link  \n",
       "0  https://docs.oracle.com/en/solutions/implement...  \n",
       "1  https://docs.oracle.com/en/solutions/migrate-t...  \n",
       "2  https://docs.oracle.com/en/solutions/migrate-t...  \n",
       "3  https://docs.oracle.com/en/solutions/migrate-e...  \n",
       "4  https://docs.oracle.com/en/solutions/private-d...  "
      ]
     },
     "execution_count": 146,
     "metadata": {},
     "output_type": "execute_result"
    }
   ],
   "source": [
    "df.head()"
   ]
  },
  {
   "cell_type": "code",
   "execution_count": 147,
   "metadata": {},
   "outputs": [],
   "source": [
    "df = df.explode('content')"
   ]
  },
  {
   "cell_type": "code",
   "execution_count": 149,
   "metadata": {},
   "outputs": [],
   "source": [
    "df.to_csv('architecture_links.csv', index_label='pandas_ind')"
   ]
  },
  {
   "cell_type": "markdown",
   "metadata": {},
   "source": [
    "## Deep learning Data Frame"
   ]
  },
  {
   "cell_type": "code",
   "execution_count": 169,
   "metadata": {},
   "outputs": [],
   "source": [
    "df = df[['img_link', 'content']]"
   ]
  },
  {
   "cell_type": "code",
   "execution_count": 170,
   "metadata": {},
   "outputs": [],
   "source": [
    "df['exist'] = 1"
   ]
  },
  {
   "cell_type": "code",
   "execution_count": 177,
   "metadata": {},
   "outputs": [],
   "source": [
    "df = df.pivot_table(index = 'img_link', columns='content', values='exist', aggfunc='sum', fill_value=0)"
   ]
  },
  {
   "cell_type": "code",
   "execution_count": 185,
   "metadata": {},
   "outputs": [],
   "source": [
    "df.to_csv('architecture_deep_learning.csv')"
   ]
  },
  {
   "cell_type": "code",
   "execution_count": null,
   "metadata": {},
   "outputs": [],
   "source": []
  }
 ],
 "metadata": {
  "kernelspec": {
   "display_name": "Python 3",
   "language": "python",
   "name": "python3"
  },
  "language_info": {
   "codemirror_mode": {
    "name": "ipython",
    "version": 3
   },
   "file_extension": ".py",
   "mimetype": "text/x-python",
   "name": "python",
   "nbconvert_exporter": "python",
   "pygments_lexer": "ipython3",
   "version": "3.8.6"
  }
 },
 "nbformat": 4,
 "nbformat_minor": 4
}
